{
  "nbformat": 4,
  "nbformat_minor": 0,
  "metadata": {
    "colab": {
      "provenance": [],
      "authorship_tag": "ABX9TyN9f+by5zvW5PD6RwroFygF",
      "include_colab_link": true
    },
    "kernelspec": {
      "name": "python3",
      "display_name": "Python 3"
    },
    "language_info": {
      "name": "python"
    }
  },
  "cells": [
    {
      "cell_type": "markdown",
      "metadata": {
        "id": "view-in-github",
        "colab_type": "text"
      },
      "source": [
        "<a href=\"https://colab.research.google.com/github/shyamkrishnan1999/AI-and-ML-Lab/blob/main/perceptron.ipynb\" target=\"_parent\"><img src=\"https://colab.research.google.com/assets/colab-badge.svg\" alt=\"Open In Colab\"/></a>"
      ]
    },
    {
      "cell_type": "code",
      "source": [
        "# importing libraries\n",
        "\n",
        "import pandas as pd\n",
        "import numpy as np"
      ],
      "metadata": {
        "id": "p3r2SlAzJ5ee"
      },
      "execution_count": 17,
      "outputs": []
    },
    {
      "cell_type": "code",
      "source": [
        "# taking in the dataset\n",
        "\n",
        "pairs=[]\n",
        "n=int(input('Enter the number of data points:'))\n",
        "for i in range(n):\n",
        "  percept=list(map(int,input().split()))\n",
        "  pairs.append(percept)"
      ],
      "metadata": {
        "colab": {
          "base_uri": "https://localhost:8080/"
        },
        "id": "1kd8kArSKZH9",
        "outputId": "2a60aa61-62f9-4947-e3d2-eed289542701"
      },
      "execution_count": 18,
      "outputs": [
        {
          "name": "stdout",
          "output_type": "stream",
          "text": [
            "Enter the number of data points:4\n",
            "0 0 -1\n",
            "0 1 1\n",
            "1 0 1\n",
            "1 1 1\n"
          ]
        }
      ]
    },
    {
      "cell_type": "code",
      "execution_count": 21,
      "metadata": {
        "id": "WFk0jvbdJ02q"
      },
      "outputs": [],
      "source": [
        "# Fuction to implement perceptron\n",
        "\n",
        "def perceptron(pairs):\n",
        "    \n",
        "\n",
        "    #initialize the weights and bias to zero\n",
        "\n",
        "    w=[0 for i in range(len(pairs[0])-1)] \n",
        "    b=0                              \n",
        "    \n",
        "    \n",
        "    #perceptron algorithm\n",
        "    \n",
        "    while(True):\n",
        "        m=0\n",
        "        for pair in pairs:\n",
        "            x=pair[:len(pair)-1]\n",
        "            weighted_sum=b+sum([x[i]*w[i] for i in range(0,len(x))])\n",
        "\n",
        "            if pair[-1]*weighted_sum<=0:\n",
        "                \n",
        "                b+=pair[-1]\n",
        "                w=[w[i]+pair[-1]*pair[i] for i in range(len(x))]\n",
        "                print('The updated weights are {} and bias are {}'.format(w,b))\n",
        "\n",
        "                m+=1\n",
        "                \n",
        "        if m==0:\n",
        "            print('The Final weights are {} and bias are {}'.format(w,b))\n",
        "            break\n",
        "    "
      ]
    },
    {
      "cell_type": "code",
      "source": [
        "# invoking the function\n",
        "\n",
        "perceptron(pairs)"
      ],
      "metadata": {
        "colab": {
          "base_uri": "https://localhost:8080/"
        },
        "id": "58_pPE4dP1x1",
        "outputId": "bdf757d0-7ad6-4246-88ba-d104d020d533"
      },
      "execution_count": 22,
      "outputs": [
        {
          "output_type": "stream",
          "name": "stdout",
          "text": [
            "The updated weights are [0, 0] and bias are -1\n",
            "The updated weights are [0, 1] and bias are 0\n",
            "The updated weights are [1, 1] and bias are 1\n",
            "The updated weights are [1, 1] and bias are 0\n",
            "The updated weights are [1, 1] and bias are -1\n",
            "The updated weights are [1, 2] and bias are 0\n",
            "The updated weights are [1, 2] and bias are -1\n",
            "The updated weights are [2, 2] and bias are 0\n",
            "The updated weights are [2, 2] and bias are -1\n",
            "The Final weights are [2, 2] and bias are -1\n"
          ]
        }
      ]
    }
  ]
}